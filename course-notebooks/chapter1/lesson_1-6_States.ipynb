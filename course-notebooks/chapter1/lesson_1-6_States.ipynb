{
 "cells": [
  {
   "cell_type": "markdown",
   "source": [
    "# 1.6: How Reasoning is Organized\n",
    "## States, Substates, and Hierarchcial Problem Space\n",
    "* TODO\n"
   ],
   "metadata": {}
  }
 ],
 "metadata": {
  "orig_nbformat": 4,
  "language_info": {
   "name": "python"
  }
 },
 "nbformat": 4,
 "nbformat_minor": 2
}