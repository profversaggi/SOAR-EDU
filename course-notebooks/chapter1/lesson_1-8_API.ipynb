{
 "cells": [
  {
   "cell_type": "markdown",
   "source": [
    "# 1.8: How To Interface with Soar Agent Reasoning\n",
    "## Soar's API: The SML Library\n",
    "* TODO: Cleaned up / concise form of Soar website SML overview\n",
    "* TODO: Brief programmer cheat sheet\n"
   ],
   "metadata": {}
  }
 ],
 "metadata": {
  "orig_nbformat": 4,
  "language_info": {
   "name": "python"
  }
 },
 "nbformat": 4,
 "nbformat_minor": 2
}