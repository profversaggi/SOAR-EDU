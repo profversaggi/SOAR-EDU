{
 "cells": [
  {
   "cell_type": "markdown",
   "source": [
    "# 1.7: How Reasoning Can Be Learned\n",
    "## Soar's Automatic Learning Sytems\n",
    "* TODO: Brief high-level overview of the different ways to learn:\n",
    "    * Chunking\n",
    "    * RL\n",
    "    * Declarative learning (SMEM/EPMEM)\n",
    "* TODO: How these can interact\n"
   ],
   "metadata": {}
  }
 ],
 "metadata": {
  "orig_nbformat": 4,
  "language_info": {
   "name": "python"
  }
 },
 "nbformat": 4,
 "nbformat_minor": 2
}