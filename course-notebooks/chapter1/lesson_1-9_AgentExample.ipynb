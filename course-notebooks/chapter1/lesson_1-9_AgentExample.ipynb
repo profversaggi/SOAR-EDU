{
 "cells": [
  {
   "cell_type": "markdown",
   "source": [
    "# 1.9: Demonstrating Soar In Action\n",
    "## Rosie: The Helpful Robot Assistant\n",
    "* TODO: Introduce Rosie and then walk through how it manifests each of the chapter 1 lesson topics\n",
    "* TODO: Link to Rosie webpage\n"
   ],
   "metadata": {}
  }
 ],
 "metadata": {
  "orig_nbformat": 4,
  "language_info": {
   "name": "python"
  }
 },
 "nbformat": 4,
 "nbformat_minor": 2
}