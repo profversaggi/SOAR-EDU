{
 "cells": [
  {
   "cell_type": "markdown",
   "source": [
    "# 1.3: Where Reasoning Happens\n",
    "## The Soar Working Memory Graph\n",
    "* TODO: What is the graph?\n",
    "* TODO: What is the terminology (WME, object/augmentation)"
   ],
   "metadata": {}
  }
 ],
 "metadata": {
  "orig_nbformat": 4,
  "language_info": {
   "name": "python"
  }
 },
 "nbformat": 4,
 "nbformat_minor": 2
}