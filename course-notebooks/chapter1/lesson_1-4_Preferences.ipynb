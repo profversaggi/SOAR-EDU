{
 "cells": [
  {
   "cell_type": "markdown",
   "source": [
    "# 1.4: What Makes Reasoning Special\n",
    "## Operator Preferences\n",
    "* TODO: Why are preferences important for reasoning?\n",
    "* TODO: How do preferences interact with the decision cycle?\n",
    "* TODO: What are the kinds of preferences?"
   ],
   "metadata": {}
  }
 ],
 "metadata": {
  "orig_nbformat": 4,
  "language_info": {
   "name": "python"
  }
 },
 "nbformat": 4,
 "nbformat_minor": 2
}