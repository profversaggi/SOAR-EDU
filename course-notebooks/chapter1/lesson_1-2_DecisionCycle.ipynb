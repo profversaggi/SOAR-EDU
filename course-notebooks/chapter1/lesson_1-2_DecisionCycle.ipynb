{
 "cells": [
  {
   "cell_type": "markdown",
   "source": [
    "# 1.2: What the reasoning looks like\n",
    "## The Soar Decision Cycle with Rules and Operators\n"
   ],
   "metadata": {}
  }
 ],
 "metadata": {
  "orig_nbformat": 4,
  "language_info": {
   "name": "python"
  }
 },
 "nbformat": 4,
 "nbformat_minor": 2
}