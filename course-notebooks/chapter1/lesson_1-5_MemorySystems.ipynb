{
 "cells": [
  {
   "cell_type": "markdown",
   "source": [
    "# 1.5: What Reasoning Interacts With\n",
    "## Memory System Interfaces\n",
    "* I/O\n",
    "* SMEM\n",
    "* EPMEM\n",
    "* RL\n",
    "* SVS\n"
   ],
   "metadata": {}
  }
 ],
 "metadata": {
  "orig_nbformat": 4,
  "language_info": {
   "name": "python"
  }
 },
 "nbformat": 4,
 "nbformat_minor": 2
}