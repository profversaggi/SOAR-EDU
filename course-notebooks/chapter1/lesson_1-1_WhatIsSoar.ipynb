{
 "cells": [
  {
   "cell_type": "markdown",
   "source": [
    "## Why Soar?\n",
    "* It can provide cool AI capabilities:\n",
    "    * Explainability\n",
    "    * Learning\n",
    "    * Context-specific reasoning\n",
    "* It's fast\n",
    "* It's free + open-source"
   ],
   "metadata": {}
  },
  {
   "cell_type": "markdown",
   "source": [
    "## What is the Soar cognitive architecture?\n",
    "* TODO: Explain the architecture/agent distinction"
   ],
   "metadata": {}
  },
  {
   "cell_type": "markdown",
   "source": [
    "## How can I use Soar?\n",
    "* TODO: Explain high-level life of the process: Use API to start Soar kernel, load agent knowledge, and run. API works in several languages."
   ],
   "metadata": {}
  }
 ],
 "metadata": {
  "orig_nbformat": 4,
  "language_info": {
   "name": "python"
  }
 },
 "nbformat": 4,
 "nbformat_minor": 2
}