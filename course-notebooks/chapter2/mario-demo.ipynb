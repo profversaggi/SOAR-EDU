{
 "cells": [
  {
   "cell_type": "code",
   "execution_count": 1,
   "source": [
    "import sys\n",
    "import os\n",
    "  \n",
    "# Import the soar edu helper from the course root directory.\n",
    "# This provides us with the methods \"run_soar_debugger(agent_file)\" and \"get_soar_cmd(agent_file)\"\n",
    "sys.path.append(os.path.abspath('..'))\n",
    "import soar_edu_helper as edu"
   ],
   "outputs": [],
   "metadata": {}
  },
  {
   "cell_type": "code",
   "execution_count": 5,
   "source": [
    "edu.run_mario_soar(\"../agents-master/_loadall_06-test.soar\", True)"
   ],
   "outputs": [
    {
     "output_type": "stream",
     "name": "stdout",
     "text": [
      "/Users/bstearn1/Documents/Projects/OptumGitHub/bstearn1/Soar-Education\n",
      "Running game controlled by Soar agent: ../agents-master/_loadall_06-test.soar\n"
     ]
    },
    {
     "output_type": "stream",
     "name": "stderr",
     "text": [
      "Error: Error binding the listener socket to its port number\n",
      "Failed to create the internet listener socket.  Shutting down listener thread.\n"
     ]
    }
   ],
   "metadata": {}
  }
 ],
 "metadata": {
  "interpreter": {
   "hash": "20bf69066c0dd38d51965b69d5e1b6e387082e3198ba56e97997ac55f4e50ad0"
  },
  "kernelspec": {
   "name": "python3",
   "display_name": "Python 3.8.9 64-bit"
  },
  "language_info": {
   "codemirror_mode": {
    "name": "ipython",
    "version": 3
   },
   "file_extension": ".py",
   "mimetype": "text/x-python",
   "name": "python",
   "nbconvert_exporter": "python",
   "pygments_lexer": "ipython3",
   "version": "3.8.9"
  }
 },
 "nbformat": 4,
 "nbformat_minor": 4
}