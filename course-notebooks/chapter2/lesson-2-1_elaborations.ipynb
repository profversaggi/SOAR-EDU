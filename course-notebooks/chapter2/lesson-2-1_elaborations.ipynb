{
 "cells": [
  {
   "cell_type": "code",
   "execution_count": 1,
   "source": [
    "import sys\n",
    "import os\n",
    "  \n",
    "# Import the soar edu helper from the course root directory.\n",
    "# This provides us with the methods \"run_soar_debugger(agent_file)\" and \"get_soar_cmd(agent_file)\"\n",
    "sys.path.append(os.path.abspath('..'))\n",
    "import soar_edu_helper as edu"
   ],
   "outputs": [],
   "metadata": {}
  },
  {
   "cell_type": "markdown",
   "source": [
    "### Let's try our first Soar rule!"
   ],
   "metadata": {}
  },
  {
   "cell_type": "markdown",
   "source": [
    "```\n",
    "sp {elaboration*hello-world\n",
    "    (state <s> ^superstate nil)\n",
    "    -->\n",
    "    (write |Hello World!|)}\n",
    "```"
   ],
   "metadata": {}
  },
  {
   "cell_type": "markdown",
   "source": [
    "This rule has a single condition, `(<s> ^superstate nil)`, and a single action `(write |Hello World!|)`.\n",
    "\n",
    "This single condition tests that the agent's working memory root has an outgoing edge named `superstate` that points to string value of `nil`.\n",
    "Soar always starts with the `^superstate nil` structure in working memory (its significance will be explained later), so this condition will always be satisfied.\n",
    "That means this rule will always be sure to fire!\n",
    "\n",
    "The single action in this rule uses the `(write ...)` command, which is a built-in special command that sends text to your terminal's standard output.\n",
    "In this case, we're sending the text \"Hello World!\" to output.\n",
    "### TIP: Soar begins and ends strings with vertical `|` bars instead of quotation marks."
   ],
   "metadata": {}
  },
  {
   "cell_type": "markdown",
   "source": [
    "## Let's run the code!"
   ],
   "metadata": {}
  },
  {
   "cell_type": "code",
   "execution_count": 8,
   "source": [
    "!{edu.get_soar_cmd(\"../../agents-master/agent_helloworld_first.soar\")}\n",
    "#edu.run_soar(\"../../agents-master/agent_helloworld_first.soar\")"
   ],
   "outputs": [
    {
     "output_type": "stream",
     "name": "stdout",
     "text": [
      "\u001b[0;31mSoar Command Line Interface 1.1\n",
      "\u001b[0m\u001b[0;31mLaunching the Soar Cognitive Architecture...\n",
      "\u001b[0m\u001b[1;34m...created Soar kernel (v9.6.0) in current thread \u001b[0m\u001b[1;34musing random port 62556\u001b[0m\n",
      "\u001b[1;34m...created agent #1 named '\u001b[0;31msoar\u001b[1;34m'\u001b[0m\n",
      "\u001b[0;31mSoar CLI in single agent mode.  Use \u001b[0;93mcreate \u001b[0;35m<agent-name>\u001b[0;31m to create another agent.\u001b[0m\n",
      "\u001b[1;34mSourcing input file \u001b[0;93m../../agents-master/agent_helloworld_first.soar\u001b[1;34m...\u001b[0m\n",
      "*\n",
      "Total: 1 production sourced.\n",
      "\n",
      "Hello World\u001b[1;33m!\u001b[0m\n",
      "     1\u001b[1;33m:\u001b[0m    \u001b[1;33m=\u001b[0m\u001b[1;33m=\u001b[0m\u001b[0;33m>\u001b[0mS\u001b[1;33m:\u001b[0m S2 \u001b[0;31m(\u001b[0mstate no\u001b[1;33m-\u001b[0mchange\u001b[0;31m)\u001b[0m\n",
      "     2\u001b[1;33m:\u001b[0m       \u001b[1;33m=\u001b[0m\u001b[1;33m=\u001b[0m\u001b[0;33m>\u001b[0mS\u001b[1;33m:\u001b[0m S3 \u001b[0;31m(\u001b[0mstate no\u001b[1;33m-\u001b[0mchange\u001b[0;31m)\u001b[0m\n",
      "     3\u001b[1;33m:\u001b[0m          \u001b[1;33m=\u001b[0m\u001b[1;33m=\u001b[0m\u001b[0;33m>\u001b[0mS\u001b[1;33m:\u001b[0m S4 \u001b[0;31m(\u001b[0mstate no\u001b[1;33m-\u001b[0mchange\u001b[0;31m)\u001b[0m\n",
      "     4\u001b[1;33m:\u001b[0m             \u001b[1;33m=\u001b[0m\u001b[1;33m=\u001b[0m\u001b[0;33m>\u001b[0mS\u001b[1;33m:\u001b[0m S5 \u001b[0;31m(\u001b[0mstate no\u001b[1;33m-\u001b[0mchange\u001b[0;31m)\u001b[0m\n",
      "     5\u001b[1;33m:\u001b[0m                \u001b[1;33m=\u001b[0m\u001b[1;33m=\u001b[0m\u001b[0;33m>\u001b[0mS\u001b[1;33m:\u001b[0m S6 \u001b[0;31m(\u001b[0mstate no\u001b[1;33m-\u001b[0mchange\u001b[0;31m)\u001b[0m\n",
      "     6\u001b[1;33m:\u001b[0m                   \u001b[1;33m=\u001b[0m\u001b[1;33m=\u001b[0m\u001b[0;33m>\u001b[0mS\u001b[1;33m:\u001b[0m S7 \u001b[0;31m(\u001b[0mstate no\u001b[1;33m-\u001b[0mchange\u001b[0;31m)\u001b[0m\n",
      "     7\u001b[1;33m:\u001b[0m                      \u001b[1;33m=\u001b[0m\u001b[1;33m=\u001b[0m\u001b[0;33m>\u001b[0mS\u001b[1;33m:\u001b[0m S8 \u001b[0;31m(\u001b[0mstate no\u001b[1;33m-\u001b[0mchange\u001b[0;31m)\u001b[0m\n",
      "     8\u001b[1;33m:\u001b[0m                         \u001b[1;33m=\u001b[0m\u001b[1;33m=\u001b[0m\u001b[0;33m>\u001b[0mS\u001b[1;33m:\u001b[0m S9 \u001b[0;31m(\u001b[0mstate no\u001b[1;33m-\u001b[0mchange\u001b[0;31m)\u001b[0m\n",
      "     9\u001b[1;33m:\u001b[0m                            \u001b[1;33m=\u001b[0m\u001b[1;33m=\u001b[0m\u001b[0;33m>\u001b[0mS\u001b[1;33m:\u001b[0m S10 \u001b[0;31m(\u001b[0mstate no\u001b[1;33m-\u001b[0mchange\u001b[0;31m)\u001b[0m\n",
      "    10\u001b[1;33m:\u001b[0m                               \u001b[1;33m=\u001b[0m\u001b[1;33m=\u001b[0m\u001b[0;33m>\u001b[0mS\u001b[1;33m:\u001b[0m S11 \u001b[0;31m(\u001b[0mstate no\u001b[1;33m-\u001b[0mchange\u001b[0;31m)\u001b[0m\n",
      "    11\u001b[1;33m:\u001b[0m                                  \u001b[1;33m=\u001b[0m\u001b[1;33m=\u001b[0m\u001b[0;33m>\u001b[0mS\u001b[1;33m:\u001b[0m S12 \u001b[0;31m(\u001b[0mstate no\u001b[1;33m-\u001b[0mchange\u001b[0;31m)\u001b[0m\n",
      "    12\u001b[1;33m:\u001b[0m                                     \u001b[1;33m=\u001b[0m\u001b[1;33m=\u001b[0m\u001b[0;33m>\u001b[0mS\u001b[1;33m:\u001b[0m S13 \u001b[0;31m(\u001b[0mstate no\u001b[1;33m-\u001b[0mchange\u001b[0;31m)\u001b[0m\n",
      "    13\u001b[1;33m:\u001b[0m                                        \u001b[1;33m=\u001b[0m\u001b[1;33m=\u001b[0m\u001b[0;33m>\u001b[0mS\u001b[1;33m:\u001b[0m S14 \u001b[0;31m(\u001b[0mstate no\u001b[1;33m-\u001b[0mchange\u001b[0;31m)\u001b[0m\n",
      "    14\u001b[1;33m:\u001b[0m                                           \u001b[1;33m=\u001b[0m\u001b[1;33m=\u001b[0m\u001b[0;33m>\u001b[0mS\u001b[1;33m:\u001b[0m S15 \u001b[0;31m(\u001b[0mstate no\u001b[1;33m-\u001b[0mchange\u001b[0;31m)\u001b[0m\n",
      "    15\u001b[1;33m:\u001b[0m                                              \u001b[1;33m=\u001b[0m\u001b[1;33m=\u001b[0m\u001b[0;33m>\u001b[0mS\u001b[1;33m:\u001b[0m S16 \u001b[0;31m(\u001b[0mstate no\u001b[1;33m-\u001b[0mchange\u001b[0;31m)\u001b[0m\n",
      "    16\u001b[1;33m:\u001b[0m                                                 \u001b[1;33m=\u001b[0m\u001b[1;33m=\u001b[0m\u001b[0;33m>\u001b[0mS\u001b[1;33m:\u001b[0m S17 \u001b[0;31m(\u001b[0mstate no\u001b[1;33m-\u001b[0mchange\u001b[0;31m)\u001b[0m\n",
      "    17\u001b[1;33m:\u001b[0m                                                    \u001b[1;33m=\u001b[0m\u001b[1;33m=\u001b[0m\u001b[0;33m>\u001b[0mS\u001b[1;33m:\u001b[0m S18 \u001b[0;31m(\u001b[0mstate no\u001b[1;33m-\u001b[0mchange\u001b[0;31m)\u001b[0m\n",
      "    18\u001b[1;33m:\u001b[0m                                                       \u001b[1;33m=\u001b[0m\u001b[1;33m=\u001b[0m\u001b[0;33m>\u001b[0mS\u001b[1;33m:\u001b[0m S19 \u001b[0;31m(\u001b[0mstate no\u001b[1;33m-\u001b[0mchange\u001b[0;31m)\u001b[0m\n",
      "    19\u001b[1;33m:\u001b[0m                                                          \u001b[1;33m=\u001b[0m\u001b[1;33m=\u001b[0m\u001b[0;33m>\u001b[0mS\u001b[1;33m:\u001b[0m S20 \u001b[0;31m(\u001b[0mstate no\u001b[1;33m-\u001b[0mchange\u001b[0;31m)\u001b[0m\n",
      "    20\u001b[1;33m:\u001b[0m                                                             \u001b[1;33m=\u001b[0m\u001b[1;33m=\u001b[0m\u001b[0;33m>\u001b[0mS\u001b[1;33m:\u001b[0m S21 \u001b[0;31m(\u001b[0mstate no\u001b[1;33m-\u001b[0mchange\u001b[0;31m)\u001b[0m\n",
      "    21\u001b[1;33m:\u001b[0m                                                                \u001b[1;33m=\u001b[0m\u001b[1;33m=\u001b[0m\u001b[0;33m>\u001b[0mS\u001b[1;33m:\u001b[0m S22 \u001b[0;31m(\u001b[0mstate no\u001b[1;33m-\u001b[0mchange\u001b[0;31m)\u001b[0m\n",
      "    22\u001b[1;33m:\u001b[0m                                                                   \u001b[1;33m=\u001b[0m\u001b[1;33m=\u001b[0m\u001b[0;33m>\u001b[0mS\u001b[1;33m:\u001b[0m S23 \u001b[0;31m(\u001b[0mstate no\u001b[1;33m-\u001b[0mchange\u001b[0;31m)\u001b[0m\n",
      "Goal stack depth exceeded 23 on a no\u001b[1;33m-\u001b[0mchange impasse.\n",
      "Soar appears to be in an infinite loop.  \n",
      "Continuing to subgoal may cause Soar to \n",
      "exceed the program stack of your system.\n",
      "\n",
      "    23\u001b[1;33m:\u001b[0m                                                                      \u001b[1;33m=\u001b[0m\u001b[1;33m=\u001b[0m\u001b[0;33m>\u001b[0mS\u001b[1;33m:\u001b[0m S24 \u001b[0;31m(\u001b[0mstate no\u001b[1;33m-\u001b[0mchange\u001b[0;31m)\u001b[0m\n",
      "System halted.\n",
      "Interrupt received.Interrupt received.\n",
      "\n",
      "\u001b[1;33m-\u001b[0m\u001b[1;33m-\u001b[0m\u001b[0;33m>\u001b[0m 23 decision cycles executed. 1 rule fired. \n",
      "Run stopped \u001b[0;31m(\u001b[0minterrupted\u001b[0;31m)\u001b[0m."
     ]
    }
   ],
   "metadata": {}
  },
  {
   "cell_type": "markdown",
   "source": [
    "***\n",
    "It worked! You should see the \"Hello World!\" text shown in the output!\n",
    "You'll also notice that Soar output a lot of other text too. After it printed our text, it kept running.\n",
    "But our agent didn't know what to do as it kept running, and the Soar architecture eventually intervened and shut down the agent.\n",
    "\n",
    "Let's modify our rule so that we stop our agent after it prints to output:"
   ],
   "metadata": {}
  },
  {
   "cell_type": "markdown",
   "source": [
    "```\n",
    "sp {elaboration*hello-world\n",
    "    (state <s> ^superstate nil)\n",
    "    -->\n",
    "    (write |Hello World!|)\n",
    "    (interrupt)}\n",
    "```"
   ],
   "metadata": {}
  },
  {
   "cell_type": "markdown",
   "source": [
    "What's different? We added one more action to the rule: the `(interrupt)` command!\n",
    "This is another special command that stops the agent during its run.\n",
    "\n",
    "## Now let's run the code again!"
   ],
   "metadata": {}
  },
  {
   "cell_type": "code",
   "execution_count": 9,
   "source": [
    "!{edu.get_soar_cmd(\"../../agents-master/agent_helloworld_stop.soar\")}\n",
    "#edu.run_soar(\"../../agents-master/agent_helloworld_stop.soar\")"
   ],
   "outputs": [
    {
     "output_type": "stream",
     "name": "stdout",
     "text": [
      "\u001b[0;31mSoar Command Line Interface 1.1\n",
      "\u001b[0m\u001b[0;31mLaunching the Soar Cognitive Architecture...\n",
      "\u001b[0m\u001b[1;34m...created Soar kernel (v9.6.0) in current thread \u001b[0m\u001b[1;34musing random port 62557\u001b[0m\n",
      "\u001b[1;34m...created agent #1 named '\u001b[0;31msoar\u001b[1;34m'\u001b[0m\n",
      "\u001b[0;31mSoar CLI in single agent mode.  Use \u001b[0;93mcreate \u001b[0;35m<agent-name>\u001b[0;31m to create another agent.\u001b[0m\n",
      "\u001b[1;34mSourcing input file \u001b[0;93m../../agents-master/agent_helloworld_stop.soar\u001b[1;34m...\u001b[0m\n",
      "*\n",
      "Total: 1 production sourced.\n",
      "\n",
      "Hello World\u001b[1;33m!\u001b[0m\n",
      "\n",
      "Interrupt received.\n",
      "\n",
      "\u001b[1;33m-\u001b[0m\u001b[1;33m-\u001b[0m\u001b[0;33m>\u001b[0m 1 decision cycle executed. 1 rule fired. "
     ]
    }
   ],
   "metadata": {}
  },
  {
   "cell_type": "markdown",
   "source": [
    "***\n",
    "That looks much cleaner!\n",
    "\n",
    "So far we've seen how to make a rule, and we've seen a condition, and we've seen some special action commands.\n",
    "But most of the time you won't be using these special action commands in your Soar rules. \n",
    "Here's a different rule that attaches a new structure `^foo bar` onto the working memory graph:"
   ],
   "metadata": {}
  },
  {
   "cell_type": "markdown",
   "source": [
    "```\n",
    "sp {elaboration*foo-bar*create\n",
    "    (state <s> ^superstate nil)\n",
    "    -->\n",
    "    (<s> ^foo bar)}\n",
    "```"
   ],
   "metadata": {}
  },
  {
   "cell_type": "markdown",
   "source": [
    "If we ran an agent with just this rule, the rule would create the `^foo bar` structure in working memory, but we wouldn't see anything printed to output. That's because we haven't told the agent to print anything with the `(write ...)` command. To demonstrate the change to working memory, let's add a second rule:"
   ],
   "metadata": {}
  },
  {
   "cell_type": "markdown",
   "source": [
    "```\n",
    "sp {elaboration*foo-bar*write\n",
    "    (state <s> ^foo bar)\n",
    "    -->\n",
    "    (write |^foo bar exists!|)\n",
    "    (interrupt)}\n",
    "```"
   ],
   "metadata": {}
  },
  {
   "cell_type": "markdown",
   "source": [
    "This second rule tests that the `^foo bar` structure exists, and, if so, it writes our new message to the screen with the `(write)` command, and it stops the agent with the `(interrupt)` command.\n",
    "\n",
    "## Let's run the code!"
   ],
   "metadata": {}
  },
  {
   "cell_type": "code",
   "execution_count": 11,
   "source": [
    "!{edu.get_soar_cmd(\"../../agents-master/agent_foobar1.soar\")}\n",
    "#edu.run_soar(\"../../agents-master/agent_foobar1.soar\")"
   ],
   "outputs": [
    {
     "output_type": "stream",
     "name": "stdout",
     "text": [
      "\u001b[0;31mSoar Command Line Interface 1.1\n",
      "\u001b[0m\u001b[0;31mLaunching the Soar Cognitive Architecture...\n",
      "\u001b[0m\u001b[1;34m...created Soar kernel (v9.6.0) in current thread \u001b[0m\u001b[1;34musing random port 62658\u001b[0m\n",
      "\u001b[1;34m...created agent #1 named '\u001b[0;31msoar\u001b[1;34m'\u001b[0m\n",
      "\u001b[0;31mSoar CLI in single agent mode.  Use \u001b[0;93mcreate \u001b[0;35m<agent-name>\u001b[0;31m to create another agent.\u001b[0m\n",
      "\u001b[1;34mSourcing input file \u001b[0;93m../../agents-master/agent_foobar1.soar\u001b[1;34m...\u001b[0m\n",
      "**\n",
      "Total: 2 productions sourced.\n",
      "\n",
      "\u001b[1;33m^\u001b[0mfoo bar exists\u001b[1;33m!\u001b[0m\n",
      "\n",
      "Interrupt received.\n",
      "\n",
      "\u001b[1;33m-\u001b[0m\u001b[1;33m-\u001b[0m\u001b[0;33m>\u001b[0m 1 decision cycle executed. 2 rules fired. "
     ]
    }
   ],
   "metadata": {}
  },
  {
   "cell_type": "markdown",
   "source": [
    "***\n",
    "We can use variable wildcards in Soar rules. For example, consider the following rule:"
   ],
   "metadata": {}
  },
  {
   "cell_type": "markdown",
   "source": [
    "```\n",
    "sp {elaboration*foo-bar*write\n",
    "    (state <s> ^foo <variable>)\n",
    "    -->\n",
    "    (write |^foo | <variable>| exists!|)\n",
    "    (interrupt)}\n",
    "```"
   ],
   "metadata": {}
  },
  {
   "cell_type": "markdown",
   "source": [
    "If we used this rule instead of the version we looked at a moment ago to write our message, it would print out the same message we saw in our last example. That's because `<variable>` references the value `bar`.\n",
    "But this rule will also work to write a similar message for any other structure in working memory that starts with `^foo`, such as `^foo far`.\n",
    "\n",
    "Let's replace the first rule with a rule that creates more than one `^foo` structure:"
   ],
   "metadata": {}
  },
  {
   "cell_type": "markdown",
   "source": [
    "```\n",
    "sp {elaboration*foo-bar*create\n",
    "    (state <s> ^superstate nil)\n",
    "    -->\n",
    "    (<s> ^foo bar\n",
    "         ^foo far\n",
    "         ^foo bar\n",
    "         ^food jar)}\n",
    "```"
   ],
   "metadata": {}
  },
  {
   "cell_type": "markdown",
   "source": [
    "This rule includes *four* actions to create structures in working memory. Three of them all have the same attribute name, \"foo\". Two of them actually create the same structure `^foo bar`. The `^food jar` structure will be ignored by our writing rule because it doesn't match the `^foo` pattern, but the others should be printed.\n",
    "\n",
    "If we run the code now, what do you think the output will be? How will our rules handle the fact that there are multiple structures to print? How will our rules handle the fact that there are two identical commands to create `^foo bar`?\n",
    "\n",
    "## Let's run the code!"
   ],
   "metadata": {}
  },
  {
   "cell_type": "code",
   "execution_count": 12,
   "source": [
    "!{edu.get_soar_cmd(\"../../agents-master/agent_foobar2.soar\")}\n",
    "#edu.run_soar(\"../../agents-master/agent_foobar2.soar\")"
   ],
   "outputs": [
    {
     "output_type": "stream",
     "name": "stdout",
     "text": [
      "\u001b[0;31mSoar Command Line Interface 1.1\n",
      "\u001b[0m\u001b[0;31mLaunching the Soar Cognitive Architecture...\n",
      "\u001b[0m\u001b[1;34m...created Soar kernel (v9.6.0) in current thread \u001b[0m\u001b[1;34musing random port 62731\u001b[0m\n",
      "\u001b[1;34m...created agent #1 named '\u001b[0;31msoar\u001b[1;34m'\u001b[0m\n",
      "\u001b[0;31mSoar CLI in single agent mode.  Use \u001b[0;93mcreate \u001b[0;35m<agent-name>\u001b[0;31m to create another agent.\u001b[0m\n",
      "\u001b[1;34mSourcing input file \u001b[0;93m../../agents-master/agent_foobar2.soar\u001b[1;34m...\u001b[0m\n",
      "**\n",
      "Total: 2 productions sourced.\n",
      "\n",
      "\u001b[1;33m^\u001b[0mfoo far exists\u001b[1;33m!\u001b[0m\u001b[1;33m^\u001b[0mfoo bar exists\u001b[1;33m!\u001b[0m\n",
      "\n",
      "Interrupt received.\n",
      "\n",
      "\u001b[1;33m-\u001b[0m\u001b[1;33m-\u001b[0m\u001b[0;33m>\u001b[0m 1 decision cycle executed. 3 rules fired. "
     ]
    }
   ],
   "metadata": {}
  },
  {
   "cell_type": "markdown",
   "source": [
    "***\n",
    "It printed \"^foo far exists\" once and \"^foo bar exists\" once, and there was no newline between our outputs.\n",
    "\n",
    "### Why did it print for multiple structures?\n",
    "Soar rules can match on any number of structures at once. Our second rule had `<variable>` in it, which matches on both `bar` and `far`. That means that two *instances* of our rule matched on working memory. So the rule fired twice, once for each match of `<variable>`.\n",
    "\n",
    "### Why did \"^foo bar exists\" only print once?\n",
    "Soar working memory cannot contain duplicate elements!\n",
    "\n",
    "When our first rule had two duplicate actions to create `^foo bar`, the second was redundant. Only one instance of `^foo bar` actually got added to memory.\n",
    "Thus, our second rule only printed \"^foo bar exists\" once.\n",
    "\n",
    "### Why was there no newline between our outputs?\n",
    "Well, we didn't tell Soar to add a newline character. Let's do that now:"
   ],
   "metadata": {}
  },
  {
   "cell_type": "markdown",
   "source": [
    "```\n",
    "sp {elaboration*foo-bar*write\n",
    "    (state <s> ^foo <variable>)\n",
    "    -->\n",
    "    (write |^foo | <variable>| exists!| (crlf))\n",
    "    (interrupt)}\n",
    "```"
   ],
   "metadata": {}
  },
  {
   "cell_type": "markdown",
   "source": [
    "Do you notice the difference? We added a `(crlf)` to the end of our output text. This is a special Soar command for adding a newline character.\n",
    "(The acronym CRLF stands for Carriage Return Line Feed.)\n",
    "\n",
    "### Does the order that the messages printed mean anything?\n",
    "\n",
    "The one write rule fired twice to write both of those messages, and those two firings effectively happened in parallel. Thus, the order that they show up on the screen should be considered random. In order for you to control the order that the message are printed, you would first need to control the order that the `^foo bar` and `^foo far` structures are created in working memory.\n",
    "\n",
    "## Let's run the code again!"
   ],
   "metadata": {}
  },
  {
   "cell_type": "code",
   "execution_count": 13,
   "source": [
    "!{edu.get_soar_cmd(\"../../agents-master/agent_foobar3.soar\")}\n",
    "#edu.run_soar(\"../../agents-master/agent_foobar3.soar\")"
   ],
   "outputs": [
    {
     "output_type": "stream",
     "name": "stdout",
     "text": [
      "\u001b[0;31mSoar Command Line Interface 1.1\n",
      "\u001b[0m\u001b[0;31mLaunching the Soar Cognitive Architecture...\n",
      "\u001b[0m\u001b[1;34m...created Soar kernel (v9.6.0) in current thread \u001b[0m\u001b[1;34musing random port 62892\u001b[0m\n",
      "\u001b[1;34m...created agent #1 named '\u001b[0;31msoar\u001b[1;34m'\u001b[0m\n",
      "\u001b[0;31mSoar CLI in single agent mode.  Use \u001b[0;93mcreate \u001b[0;35m<agent-name>\u001b[0;31m to create another agent.\u001b[0m\n",
      "\u001b[1;34mSourcing input file \u001b[0;93m../../agents-master/agent_foobar3.soar\u001b[1;34m...\u001b[0m\n",
      "**\n",
      "Total: 2 productions sourced.\n",
      "\n",
      "\u001b[1;33m^\u001b[0mfoo far exists\u001b[1;33m!\u001b[0m\n",
      "\u001b[1;33m^\u001b[0mfoo bar exists\u001b[1;33m!\u001b[0m\n",
      "\n",
      "\n",
      "Interrupt received.\n",
      "\n",
      "\u001b[1;33m-\u001b[0m\u001b[1;33m-\u001b[0m\u001b[0;33m>\u001b[0m 1 decision cycle executed. 3 rules fired. "
     ]
    }
   ],
   "metadata": {}
  },
  {
   "cell_type": "markdown",
   "source": [
    "***\n",
    "## Nice!\n",
    "\n",
    "This looks pretty good now. Try experimenting more on your own with creating or printing different structures in working memory!"
   ],
   "metadata": {}
  }
 ],
 "metadata": {
  "interpreter": {
   "hash": "31f2aee4e71d21fbe5cf8b01ff0e069b9275f58929596ceb00d14d90e3e16cd6"
  },
  "kernelspec": {
   "name": "python3",
   "display_name": "Python 3.8.9 64-bit"
  },
  "language_info": {
   "codemirror_mode": {
    "name": "ipython",
    "version": 3
   },
   "file_extension": ".py",
   "mimetype": "text/x-python",
   "name": "python",
   "nbconvert_exporter": "python",
   "pygments_lexer": "ipython3",
   "version": "3.8.9"
  }
 },
 "nbformat": 4,
 "nbformat_minor": 4
}